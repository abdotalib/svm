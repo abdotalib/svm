{
 "cells": [
  {
   "cell_type": "code",
   "execution_count": 1,
   "metadata": {},
   "outputs": [
    {
     "name": "stdout",
     "output_type": "stream",
     "text": [
      "Tous les packages ont été bien importés\n"
     ]
    }
   ],
   "source": [
    "#importation des packages necessaires\n",
    "import numpy as np\n",
    "import matplotlib.pyplot as plt\n",
    "import sklearn\n",
    "from sklearn import datasets\n",
    "print(\"Tous les packages ont été bien importés\")"
   ]
  },
  {
   "cell_type": "code",
   "execution_count": 3,
   "metadata": {},
   "outputs": [
    {
     "name": "stdout",
     "output_type": "stream",
     "text": [
      "Dimensions du base de données iris  (150, 4) \n",
      "dimension de la variable cible (150,)\n"
     ]
    }
   ],
   "source": [
    "#Charger les données IRIS \n",
    "data = datasets.load_iris()\n",
    "X, y = sklearn.utils.shuffle(data.data, data.target, random_state=0) # Mélanger les données\n",
    "print(\"Dimensions du base de données iris \", X.shape ,\"\\ndimension de la variable cible\", y.shape)"
   ]
  },
  {
   "cell_type": "code",
   "execution_count": 4,
   "metadata": {},
   "outputs": [],
   "source": [
    "#Diviser les donnés en données d'entrainement et du test\n",
    "from sklearn.model_selection import train_test_split\n",
    "X_train, X_test, y_train, y_test = train_test_split(X, y, test_size = 0.20)\n"
   ]
  },
  {
   "cell_type": "code",
   "execution_count": 9,
   "metadata": {},
   "outputs": [
    {
     "data": {
      "text/plain": [
       "array([2, 1, 2, 0, 0, 1, 0, 2, 1, 0, 1, 1, 2, 1, 0, 2, 0, 2, 0, 0, 0, 1,\n",
       "       2, 1, 2, 0, 1, 1, 2, 0])"
      ]
     },
     "execution_count": 9,
     "metadata": {},
     "output_type": "execute_result"
    }
   ],
   "source": [
    "y_test"
   ]
  },
  {
   "cell_type": "code",
   "execution_count": 5,
   "metadata": {},
   "outputs": [],
   "source": [
    "#importer la classe svc qui contient la classe svm\n",
    "from sklearn.svm import SVC\n",
    "svclassifier = SVC(kernel='linear')"
   ]
  },
  {
   "cell_type": "code",
   "execution_count": 7,
   "metadata": {},
   "outputs": [],
   "source": [
    "resultats = svclassifier.fit(X_train, y_train)\n",
    "#print(resultats.best_params_)"
   ]
  },
  {
   "cell_type": "code",
   "execution_count": 8,
   "metadata": {},
   "outputs": [
    {
     "data": {
      "text/plain": [
       "array([1, 1, 1, 2, 2, 1, 2, 1, 0, 0, 0, 2, 0, 1, 0, 1, 0, 1, 0, 0, 2, 2,\n",
       "       0, 2, 2, 2, 0, 0, 0, 2])"
      ]
     },
     "execution_count": 8,
     "metadata": {},
     "output_type": "execute_result"
    }
   ],
   "source": [
    "y_pred = resultats.predict(X_test)\n",
    "y_pred"
   ]
  },
  {
   "cell_type": "code",
   "execution_count": 9,
   "metadata": {},
   "outputs": [
    {
     "name": "stdout",
     "output_type": "stream",
     "text": [
      "              precision    recall  f1-score   support\n",
      "\n",
      "           0       1.00      1.00      1.00        12\n",
      "           1       1.00      1.00      1.00         8\n",
      "           2       1.00      1.00      1.00        10\n",
      "\n",
      "    accuracy                           1.00        30\n",
      "   macro avg       1.00      1.00      1.00        30\n",
      "weighted avg       1.00      1.00      1.00        30\n",
      "\n"
     ]
    }
   ],
   "source": [
    "from sklearn.metrics import classification_report, confusion_matrix\n",
    "print(classification_report(y_test,y_pred))"
   ]
  },
  {
   "cell_type": "code",
   "execution_count": 12,
   "metadata": {},
   "outputs": [
    {
     "data": {
      "text/plain": [
       "array([[12,  0,  0],\n",
       "       [ 0,  8,  0],\n",
       "       [ 0,  0, 10]], dtype=int64)"
      ]
     },
     "execution_count": 12,
     "metadata": {},
     "output_type": "execute_result"
    }
   ],
   "source": [
    "confusion_matrix(y_pred,y_test)"
   ]
  },
  {
   "cell_type": "code",
   "execution_count": 13,
   "metadata": {},
   "outputs": [
    {
     "data": {
      "image/png": "[encoded data removed]",
      "text/plain": [
       "<Figure size 1080x576 with 2 Axes>"
      ]
     },
     "metadata": {
      "needs_background": "light"
     },
     "output_type": "display_data"
    }
   ],
   "source": [
    "import matplotlib.pyplot as plt\n",
    "fig, (ax1, ax2) = plt.subplots(1, 2, figsize=(15,8))\n",
    "\n",
    "#plt.subplot(1,2,1)\n",
    "ax1.scatter(X_test[y_test == 0][:, 0], X_test[y_test == 0][:, 1], c = 'r', label = 'classe 0')\n",
    "ax1.scatter(X_test[y_test == 1][:, 0], X_test[y_test == 1][:, 1], c = 'g', label = 'classe 1')\n",
    "ax1.scatter(X_test[y_test == 2][:, 0], X_test[y_test == 2][:, 1], c = 'b', label = 'classe 0')\n",
    "ax1.set_title(\"Représentation des données selon les vraies labels des classes\")\n",
    "ax1.legend(loc='upper right')\n",
    "\n",
    "#ax1.subplot(1,2,2)\n",
    "ax2.scatter(X_test[y_pred == 0][:, 0], X_test[y_pred == 0][:, 1], c = 'r', label = 'classe 0')\n",
    "ax2.scatter(X_test[y_pred == 1][:, 0], X_test[y_pred == 1][:, 1], c = 'g', label = 'classe 1')\n",
    "ax2.scatter(X_test[y_pred == 2][:, 0], X_test[y_pred == 2][:, 1], c = 'b', label = 'classe 2')\n",
    "ax2.set_title(\"Représentation des données selon les classes prédites par le modéle\")\n",
    "ax2.legend(loc='upper right')\n",
    "plt.show()"
   ]
  },
  {
   "cell_type": "code",
   "execution_count": null,
   "metadata": {},
   "outputs": [],
   "source": []
  }
 ],
 "metadata": {
  "kernelspec": {
   "display_name": "Python 3",
   "language": "python",
   "name": "python3"
  },
  "language_info": {
   "codemirror_mode": {
    "name": "ipython",
    "version": 3
   },
   "file_extension": ".py",
   "mimetype": "text/x-python",
   "name": "python",
   "nbconvert_exporter": "python",
   "pygments_lexer": "ipython3",
   "version": "3.8.0"
  }
 },
 "nbformat": 4,
 "nbformat_minor": 4
}
